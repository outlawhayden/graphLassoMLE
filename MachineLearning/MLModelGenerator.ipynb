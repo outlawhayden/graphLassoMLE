{
 "cells": [
  {
   "cell_type": "code",
   "execution_count": 12,
   "id": "eaa6e0e7-6a6e-4d51-b4c9-5cce42827599",
   "metadata": {},
   "outputs": [],
   "source": [
    "import scipy\n",
    "import numpy as np\n",
    "from scipy.stats import norm\n",
    "import time\n",
    "import string\n",
    "import pandas as pd\n",
    "import pathlib\n",
    "from pathlib import Path\n",
    "import matplotlib.pyplot as plt\n",
    "%matplotlib inline\n",
    "import seaborn as sns\n",
    "import os\n",
    "from collections import deque\n",
    "from sklearn.model_selection import train_test_split\n",
    "from sklearn.linear_model import LinearRegression"
   ]
  },
  {
   "cell_type": "code",
   "execution_count": 13,
   "id": "f39bf54c-8038-495f-9f2a-aa1b2123228c",
   "metadata": {},
   "outputs": [
    {
     "name": "stdout",
     "output_type": "stream",
     "text": [
      "Generation and Analysis saved to: /Users/haydenoutlaw/Documents/Courses/CMPS 6240/MLProject/97090Analysis\n"
     ]
    }
   ],
   "source": [
    "#assign project id\n",
    "letters = string.digits\n",
    "stringID = str(np.random.randint(10000,99999))\n",
    "\n",
    "#create new folder for output\n",
    "folderDir = os.path.join(os.getcwd(),stringID + \"Analysis\")\n",
    "Path(folderDir).mkdir(parents=False, exist_ok=False)\n",
    "\n",
    "#create data and analysis output files\n",
    "dataName = (stringID + \"BulkIntegrate.txt\")\n",
    "analysisName = (stringID + \"DataAnalysis.txt\")\n",
    "dataFile = os.path.join(folderDir, dataName)\n",
    "analysisFile = os.path.join(folderDir, analysisName)\n",
    "\n",
    "#open files\n",
    "dp = open(dataFile, 'w')\n",
    "dp.write(\"Alpha,Probability\\n\")\n",
    "ap = open(analysisFile, 'w')    \n",
    "ap.write(stringID + \" Analysis: \\n\\n\")\n",
    "ap.close()\n",
    "\n",
    "#output location of new folder\n",
    "print(\"Generation and Analysis saved to: \" + folderDir)"
   ]
  },
  {
   "cell_type": "code",
   "execution_count": 14,
   "id": "128952f7-8bf7-4b00-a670-43f739a4fc5f",
   "metadata": {},
   "outputs": [
    {
     "name": "stdin",
     "output_type": "stream",
     "text": [
      "Enter number of dimensions to sample from (Integer > 2):  7\n",
      "Enter number of iterations to converge (positive integer):  1000\n",
      "Enter number of iterations per alpha (positive integer):  1\n",
      "Enter alpha start value (positive float):  0.001\n",
      "Enter alpha step value (positive float):  0.001\n",
      "Enter alpha end value (positive float > startalpha):  0.004\n",
      "Enter % of data to be used in ml model training set: (float between 0 and 1 non-inclusive) 0.80\n"
     ]
    }
   ],
   "source": [
    "dimensions = int(input(\"Enter number of dimensions to sample from (Integer > 2): \"))\n",
    "iteration = int(input(\"Enter number of iterations to converge (positive integer): \"))\n",
    "peralpha = int(input(\"Enter number of iterations per alpha (positive integer): \"))\n",
    "startalpha = float(input(\"Enter alpha start value (positive float): \"))\n",
    "stepalpha = float(input(\"Enter alpha step value (positive float): \"))\n",
    "endalpha = float(input(\"Enter alpha end value (positive float > startalpha): \"))\n",
    "dataportion = float(input(\"Enter % of data to be used in ml model training set: (float between 0 and 1 non-inclusive)\"))\n"
   ]
  },
  {
   "cell_type": "markdown",
   "id": "766b4926-c099-44dc-845e-9c15917ba269",
   "metadata": {},
   "source": [
    "## Generating Boundary Matrices"
   ]
  },
  {
   "cell_type": "code",
   "execution_count": 15,
   "id": "afcb1e6e-144d-4aa9-a7c5-ac9accb14ffc",
   "metadata": {},
   "outputs": [
    {
     "name": "stdout",
     "output_type": "stream",
     "text": [
      "Done\n"
     ]
    }
   ],
   "source": [
    "TCoordinates = []\n",
    "\n",
    "#calculate number of diagonal entries in n matrix\n",
    "def quantityDiagonalEntries(n):\n",
    "    n -= 1\n",
    "    numElements = 0\n",
    "    while n >0:\n",
    "        numElements += n\n",
    "        n -= 1\n",
    "    return numElements\n",
    "\n",
    "#generate binary numbers from 1 to n, creates new array\n",
    "def binaryGenerate(n): ##non-recursive!! use python cast to binary\n",
    "    localBinaryNums=[];\n",
    "    N = int((n-1)*n/2)\n",
    "    for i in range(2**N):\n",
    "        tempB = format(i,\"b\")\n",
    "        localBinaryNums.append(tempB)\n",
    "    return localBinaryNums;\n",
    "        \n",
    "#generate coordinates for n off-diagonal entries in n dimensions\n",
    "def coordinateGenerate(n): ##works\n",
    "    s = 0\n",
    "    for i in range(s,n):\n",
    "        for j in range (s+1,n):\n",
    "            TCoordinates.append(np.array([i,j]))\n",
    "            \n",
    "        s += 1;\n",
    "        \n",
    "        \n",
    "diagonalEntries = quantityDiagonalEntries(dimensions)\n",
    "binaryIndices = binaryGenerate(dimensions)             \n",
    "coordinateGenerate(dimensions)\n",
    "\n",
    "#create basic t matrix\n",
    "TBase = np.ones(dimensions, dtype = int) - np.identity(dimensions, dtype=int)    \n",
    "\n",
    "#create list of t matrices\n",
    "TList = []      \n",
    "for b in binaryIndices:\n",
    "    TTemp = np.ones(dimensions, dtype = int) - np.identity(dimensions, dtype=int)\n",
    "    for d in range(0,len(b)):\n",
    "        if (b[d] == \"1\"):\n",
    "            TTemp[TCoordinates[d][0]][TCoordinates[d][1]] *= -1\n",
    "            TTemp[TCoordinates[d][1]][TCoordinates[d][0]] *= -1\n",
    "    TList.append(TTemp)\n",
    "    \n",
    "\n",
    "\n",
    "print(\"Done\")\n",
    "## for n dim, take n-1 samples"
   ]
  },
  {
   "cell_type": "markdown",
   "id": "2b161d59-4611-4c81-8a0f-49dff2f7dd67",
   "metadata": {},
   "source": [
    "## Assign Covariance Matrix"
   ]
  },
  {
   "cell_type": "code",
   "execution_count": 16,
   "id": "39f553d5-f392-4624-bc1a-fc90909d8dc1",
   "metadata": {},
   "outputs": [
    {
     "name": "stdout",
     "output_type": "stream",
     "text": [
      "Done\n"
     ]
    }
   ],
   "source": [
    "#assign covariance matrix as identity in n dimensions\n",
    "cov = np.identity(dimensions)\n",
    "print(\"Done\")"
   ]
  },
  {
   "cell_type": "markdown",
   "id": "4df21cd9-041b-4d18-9394-911eff7772f0",
   "metadata": {},
   "source": [
    "## Initialize Counters"
   ]
  },
  {
   "cell_type": "code",
   "execution_count": 17,
   "id": "b6d083ff-bae8-40fc-a121-2f32b6800078",
   "metadata": {},
   "outputs": [],
   "source": [
    "#counter initialization\n",
    "total=0\n",
    "hits = 0\n",
    "ratio = 0\n",
    "old = 0\n",
    "new = 0\n",
    "change = 0\n",
    "printsamples = 'n'"
   ]
  },
  {
   "cell_type": "code",
   "execution_count": 18,
   "id": "467ce649-5e93-4f70-9035-840fd7b99e05",
   "metadata": {},
   "outputs": [
    {
     "name": "stdout",
     "output_type": "stream",
     "text": [
      "Done\n"
     ]
    }
   ],
   "source": [
    "#monte-carlo sampling\n",
    "\n",
    "for d in range(dimensions, dimensions+1):\n",
    "    cov = np.identity(d)\n",
    "    for a in np.arange(startalpha, endalpha, stepalpha):\n",
    "        alpha = a\n",
    "        for j in range(peralpha):\n",
    "            #generate data\n",
    "            for i in range(1,iteration+1):\n",
    "                old = ratio\n",
    "                posdef = False\n",
    "                zerovect = np.zeros(d)\n",
    "                samples = np.random.multivariate_normal(zerovect, cov, size=2, check_valid='warn', tol=1e-8)\n",
    "                #if verbose == 'y':\n",
    "                    #print(samples)\n",
    "                S = np.dot(samples.T, samples)\n",
    "                #print(S)\n",
    "                #check each T\n",
    "            for t in TList:\n",
    "                    aT = alpha * t\n",
    "                    SaT = np.add(S, aT)\n",
    "                    if np.all(np.linalg.eigvals(SaT) > 0):\n",
    "                        posdef = True\n",
    "\n",
    "            if (posdef == True):\n",
    "                hits += 1\n",
    "\n",
    "            total += 1\n",
    "            ratio = hits/total\n",
    "            new = ratio\n",
    "\n",
    "            change = new - old\n",
    "\n",
    "            dp.write(str(d) + \",\" + str(samples) + \",\" + str(alpha)+ \",\"+ str(ratio)+ \"\\n\")\n",
    "\n",
    "#close data file        \n",
    "dp.close()\n",
    "print(\"Done\")"
   ]
  },
  {
   "cell_type": "code",
   "execution_count": null,
   "id": "0c5afc4d-9b58-4605-86f0-e4ba4b0c56ed",
   "metadata": {},
   "outputs": [],
   "source": []
  }
 ],
 "metadata": {
  "kernelspec": {
   "display_name": "Python 3 (ipykernel)",
   "language": "python",
   "name": "python3"
  },
  "language_info": {
   "codemirror_mode": {
    "name": "ipython",
    "version": 3
   },
   "file_extension": ".py",
   "mimetype": "text/x-python",
   "name": "python",
   "nbconvert_exporter": "python",
   "pygments_lexer": "ipython3",
   "version": "3.8.13"
  }
 },
 "nbformat": 4,
 "nbformat_minor": 5
}
